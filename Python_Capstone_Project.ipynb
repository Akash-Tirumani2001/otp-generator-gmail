{
  "nbformat": 4,
  "nbformat_minor": 0,
  "metadata": {
    "colab": {
      "provenance": []
    },
    "kernelspec": {
      "name": "python3",
      "display_name": "Python 3"
    },
    "language_info": {
      "name": "python"
    }
  },
  "cells": [
    {
      "cell_type": "code",
      "source": [
        "\n",
        "import random\n",
        "import smtplib\n",
        "from email.mime.text import MIMEText\n",
        "from email.mime.multipart import MIMEMultipart\n",
        "import time\n",
        "\n",
        "# === Function to Generate OTP ===\n",
        "def generate_otp():\n",
        "    otp = random.randint(100000, 999999)\n",
        "    return otp\n",
        "\n",
        "# function to simulate sending the OTP to the user's email address\n",
        "def send_otp_email(receiver_email, otp):\n",
        "    sender_email = \"akashodinschool@gmail.com\"\n",
        "    sender_password = \"hpztcfxmwmvmnyzb\"\n",
        "\n",
        "    try:\n",
        "         Server = smtplib.SMTP('smtp.gmail.com', 587)\n",
        "         Server.starttls()\n",
        "         Server.login(sender_email, sender_password)\n",
        "\n",
        "         subject = \"Your OTP Code\"\n",
        "         body = f\"Your One-Time Password (OTP) is: {otp}\"\n",
        "\n",
        "         msg = MIMEMultipart()\n",
        "         msg['From'] = sender_email\n",
        "         msg['To'] = receiver_email\n",
        "         msg['Subject'] = subject\n",
        "         msg.attach(MIMEText(body, 'plain'))\n",
        "\n",
        "         text = msg.as_string()\n",
        "         Server.sendmail(sender_email, receiver_email, text)\n",
        "         Server.quit()\n",
        "         print(f\" OTP has been sent to {receiver_email}\")\n",
        "\n",
        "    except Exception as e:\n",
        "        print(f\" Failed to send OTP: {e}\")\n",
        "\n",
        "# function to prompt the user to enter the OTP received in their email===\n",
        "def prompt_for_otp():\n",
        "    user_otp = input(\"Enter the OTP you received: \")\n",
        "    return user_otp\n",
        "\n",
        "# function to verify if the entered OTP matches the generated OTP`\n",
        "def verify_otp(sent_otp, entered_otp):\n",
        "    if sent_otp == int(entered_otp):\n",
        "       return True\n",
        "    return False\n",
        "\n",
        "# === Main Function ===\n",
        "def otp_verification_system():\n",
        "    print(\" Welcome to the OTP Verification System\")\n",
        "    receiver_email = input(\" Enter your email address: \")\n",
        "\n",
        "    otp = generate_otp()\n",
        "    send_otp_email(receiver_email, otp)\n",
        "\n",
        "    attempts = 3\n",
        "    while attempts > 0:\n",
        "        entered_otp = prompt_for_otp()\n",
        "\n",
        "        if verify_otp(otp, entered_otp):\n",
        "            print(\"OTP Verified Successfully. Access Granted!\")\n",
        "            break\n",
        "        else:\n",
        "            attempts -= 1\n",
        "            if attempts >0:\n",
        "                print(f\"Incorrect OTP. You have {attempts} attempts left .\")\n",
        "            else:\n",
        "              print(\" Incorrect OTP. Access Denied.\")\n",
        "              break\n",
        "\n",
        "# === Run the System ===\n",
        "if __name__ == \"__main__\":\n",
        "    otp_verification_system()"
      ],
      "metadata": {
        "colab": {
          "base_uri": "https://localhost:8080/"
        },
        "id": "j9EznLeNTWzR",
        "outputId": "acc11bec-3422-4de6-896c-68a883b63f09"
      },
      "execution_count": 19,
      "outputs": [
        {
          "output_type": "stream",
          "name": "stdout",
          "text": [
            " Welcome to the OTP Verification System\n",
            " Enter your email address: akashodinschool@gmail.com\n",
            " OTP has been sent to akashodinschool@gmail.com\n",
            "Enter the OTP you received: 234562\n",
            "Incorrect OTP. You have 2 attempts left .\n",
            "Enter the OTP you received: 369852\n",
            "Incorrect OTP. You have 1 attempts left .\n",
            "Enter the OTP you received: 258741\n",
            " Incorrect OTP. Access Denied.\n"
          ]
        }
      ]
    }
  ]
}